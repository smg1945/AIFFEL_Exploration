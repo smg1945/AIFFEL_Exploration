{
 "cells": [
  {
   "cell_type": "code",
   "execution_count": 1,
   "id": "ab804b3e",
   "metadata": {},
   "outputs": [],
   "source": [
    "# 필요한 모듈 불러오기\n",
    "from sklearn.datasets import load_diabetes\n",
    "import numpy as np\n",
    "import pandas as pd\n",
    "import matplotlib.pyplot as plt\n",
    "from sklearn.model_selection import train_test_split"
   ]
  },
  {
   "cell_type": "code",
   "execution_count": 2,
   "id": "719e59b6",
   "metadata": {},
   "outputs": [],
   "source": [
    "# diabetes 변수에 데이터를 저장하고, 데이터의 feature는 df_X에, label은 df_y에 저장\n",
    "diabetes = load_diabetes()\n",
    "\n",
    "df_X = diabetes.data\n",
    "df_y = diabetes.target"
   ]
  },
  {
   "cell_type": "code",
   "execution_count": null,
   "id": "956cb68a",
   "metadata": {},
   "outputs": [],
   "source": [
    "# 각각을 NumPy 배열로 변환 및 배열 형태 확인\n",
    "X = np.array(df_X)\n",
    "y = np.array(df_y)\n",
    "X.shape, y.shape"
   ]
  },
  {
   "cell_type": "code",
   "execution_count": 4,
   "id": "351cfade",
   "metadata": {},
   "outputs": [],
   "source": [
    "# scikit-learn의 train_test_split() 메서드를 이용하여 데이터셋을 학습 데이터와 테스트 데이터로 분류\n",
    "X_train, X_test, y_train, y_test = train_test_split(X, y, random_state=42)"
   ]
  },
  {
   "cell_type": "code",
   "execution_count": 5,
   "id": "df1caf50",
   "metadata": {},
   "outputs": [],
   "source": [
    "# 초기 가중치 및 편향의 값을 랜덤하게 지정.\n",
    "W = np.random.randn(10)\n",
    "b = np.random.randn()\n",
    "\n",
    "# 모델 함수 정의. (NumPy의 dot()을 이용하여 feature 행렬과 가중치 행렬을 곱한 후 편향을 더함)\n",
    "def model(X):\n",
    "    pred = np.dot(X, W) + b\n",
    "    return pred"
   ]
  },
  {
   "cell_type": "code",
   "execution_count": 6,
   "id": "412813c2",
   "metadata": {},
   "outputs": [],
   "source": [
    "# 손실함수 정의. metric이 평균제곱오차(MSE)이므로, 실제 데이터 값과 모델의 예측값의 차이의 제곱의 평균을 계산.\n",
    "def mse_loss(y, pred):\n",
    "    loss = np.mean((y - pred) ** 2)\n",
    "    return loss"
   ]
  },
  {
   "cell_type": "code",
   "execution_count": 7,
   "id": "189100e6",
   "metadata": {},
   "outputs": [],
   "source": [
    "# 기울기 함수 정의.\n",
    "def gradient(X, y, pred):\n",
    "    # feature 행렬의 전치 행렬과 예측값-실제값을 곱한 후 스케일링하여 기울기를 업데이트한다.\n",
    "    dW = (2 / len(X)) * np.dot(X.T, (pred - y))\n",
    "    # 예측값-실제값의 총합을 스케일링하여 편향을 업데이트한다.\n",
    "    db = (2 / len(X)) * np.sum(pred - y)\n",
    "    return dW, db"
   ]
  },
  {
   "cell_type": "code",
   "execution_count": 8,
   "id": "67d3af43",
   "metadata": {},
   "outputs": [],
   "source": [
    "# 학습률 지정\n",
    "LEARNING_RATE = 0.5"
   ]
  },
  {
   "cell_type": "code",
   "execution_count": null,
   "id": "67fad074",
   "metadata": {},
   "outputs": [],
   "source": [
    "# 총 5000번의 시행으로 훈련 데이터로 모델을 학습 및 손실함수를 계산한 후 기울기 함수에 반영한다.\n",
    "# 기울기 함수에서 업데이트한 값으로 가중치와 편향을 조정한 뒤 다시 학습을 반복한다.\n",
    "for i in range(1, 5001):\n",
    "    pred = model(X_train)\n",
    "    loss = mse_loss(y_train, pred)\n",
    "    dW, db = gradient(X_train, y_train, pred)\n",
    "    W -= LEARNING_RATE * dW\n",
    "    b -= LEARNING_RATE * db\n",
    "    # 100n번째 수행마다 손실함수 값을 출력\n",
    "    if i % 100 == 0:\n",
    "        print(f\"Epoch: {i}/5000, Loss: {loss}\")"
   ]
  },
  {
   "cell_type": "code",
   "execution_count": null,
   "id": "63f1f72b",
   "metadata": {},
   "outputs": [],
   "source": [
    "# 테스트 데이터로 모델을 테스트. 손실함수 값이 3000 이하임을 확인\n",
    "test_pred = model(X_test)\n",
    "test_loss = mse_loss(y_test, test_pred)\n",
    "print(f\"Test loss ; {test_loss}\")"
   ]
  },
  {
   "cell_type": "code",
   "execution_count": null,
   "id": "3ff2d8cf",
   "metadata": {},
   "outputs": [],
   "source": [
    "# matplotlib을 이용하여 실제 데이터와 모델의 예측값를 산점도로 표현\n",
    "plt.scatter(X_test[:,0], y_test, label='labels')\n",
    "plt.scatter(X_test[:,0], test_pred, label='predicted')\n",
    "plt.xlabel('First_feature')\n",
    "plt.ylabel('Target')\n",
    "plt.legend()\n",
    "plt.show()"
   ]
  }
 ],
 "metadata": {
  "kernelspec": {
   "display_name": "Python 3 (ipykernel)",
   "language": "python",
   "name": "python3"
  },
  "language_info": {
   "codemirror_mode": {
    "name": "ipython",
    "version": 3
   },
   "file_extension": ".py",
   "mimetype": "text/x-python",
   "name": "python",
   "nbconvert_exporter": "python",
   "pygments_lexer": "ipython3",
   "version": "3.9.16"
  }
 },
 "nbformat": 4,
 "nbformat_minor": 5
}
