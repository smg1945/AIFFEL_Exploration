{
 "cells": [
  {
   "cell_type": "code",
   "execution_count": null,
   "id": "c961d6f8",
   "metadata": {},
   "outputs": [],
   "source": [
    "import cv2\n",
    "import dlib\n",
    "import matplotlib.pyplot as plt\n",
    "import numpy as np"
   ]
  },
  {
   "cell_type": "code",
   "execution_count": null,
   "id": "e9be0ba8",
   "metadata": {},
   "outputs": [],
   "source": [
    "face_cascade = cv2.CascadeClassifier(\"C:/Users/ZAKAR/anaconda3/pkgs/opencv-4.6.0-py39hf11a4ad_3/Library/etc/haarcascades/haarcascade_frontalface_default.xml\")\n",
    "eye_cascade = cv2.CascadeClassifier('C:/Users/ZAKAR/anaconda3/pkgs/opencv-4.6.0-py39hf11a4ad_3/Library/etc/haarcascades/haarcascade_eye.xml')"
   ]
  },
  {
   "cell_type": "code",
   "execution_count": null,
   "id": "cb9d2218",
   "metadata": {},
   "outputs": [],
   "source": [
    "img = cv2.imread('C:/Users/ZAKAR/Documents/GitHub/AIFFEL/Exploration/Quest13_EX03/lion.jpg', \n",
    "                cv2.IMREAD_COLOR)\n",
    "gray = cv2.cvtColor(img, cv2.COLOR_BGR2GRAY)\n",
    "detector_hog = dlib.get_frontal_face_detector()\n",
    "dlib_rects = detector_hog(gray, 1)"
   ]
  },
  {
   "cell_type": "code",
   "execution_count": null,
   "id": "5e765154",
   "metadata": {
    "scrolled": true
   },
   "outputs": [],
   "source": [
    "for (x,y,w,h) in dlib_rects:\n",
    "    cv2.rectangle(img, (x,y),(x+w,y+h),(255,0,0),2)\n",
    "    roi_gray = gray[y:y+h, x:x+w]\n",
    "    roi_color = img[y:y+h, x:x+w]\n",
    "    eyes = eye_cascade.detectMultiScale(roi_gray)\n",
    "    for (ex,ey,ew,eh) in eyes:\n",
    "        cv2.rectangle(roi_color,(ex,ey),(ex+ew,ey+eh),(0,255,0),2)\n",
    "\n",
    "plt.imshow(eyes)"
   ]
  },
  {
   "cell_type": "code",
   "execution_count": null,
   "id": "4e5b9b5c",
   "metadata": {},
   "outputs": [],
   "source": []
  }
 ],
 "metadata": {
  "kernelspec": {
   "display_name": "Python 3 (ipykernel)",
   "language": "python",
   "name": "python3"
  },
  "language_info": {
   "codemirror_mode": {
    "name": "ipython",
    "version": 3
   },
   "file_extension": ".py",
   "mimetype": "text/x-python",
   "name": "python",
   "nbconvert_exporter": "python",
   "pygments_lexer": "ipython3",
   "version": "3.9.16"
  }
 },
 "nbformat": 4,
 "nbformat_minor": 5
}
