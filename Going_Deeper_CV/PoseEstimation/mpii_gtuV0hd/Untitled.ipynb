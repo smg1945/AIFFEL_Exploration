{
 "cells": [
  {
   "cell_type": "code",
   "execution_count": 1,
   "metadata": {
    "ExecuteTime": {
     "end_time": "2021-07-26T07:24:53.557173Z",
     "start_time": "2021-07-26T07:24:52.874159Z"
    }
   },
   "outputs": [
    {
     "name": "stdout",
     "output_type": "stream",
     "text": [
      "total 11878296\r\n",
      "drwxrwsr-x 2 21224 12000      950272 Mar 21  2014 images\r\n",
      "-rw-r--r-- 1 root  root  12088943206 Jul 13 09:24 mpii_human_pose_v1.tar.gz\r\n",
      "-rw-r--r-- 1 root  root     12340483 Jul 13 08:13 mpii_human_pose_v1_u12_2.zip\r\n",
      "-rw-r--r-- 1 root  root     61118310 Jul 13 08:13 mpii.zip\r\n",
      "drwxr-xr-x 2 root  root         4096 Jul 14 09:43 tfrecords_mpii\r\n",
      "-rw-r--r-- 1 root  root           72 Jul 26 07:23 Untitled.ipynb\r\n"
     ]
    }
   ],
   "source": [
    "!ls -l\n"
   ]
  },
  {
   "cell_type": "code",
   "execution_count": 3,
   "metadata": {
    "ExecuteTime": {
     "end_time": "2021-07-26T07:26:39.007324Z",
     "start_time": "2021-07-26T07:26:38.325393Z"
    }
   },
   "outputs": [],
   "source": [
    "!rm -rf images/"
   ]
  },
  {
   "cell_type": "code",
   "execution_count": 4,
   "metadata": {
    "ExecuteTime": {
     "end_time": "2021-07-26T07:26:39.695165Z",
     "start_time": "2021-07-26T07:26:39.010276Z"
    }
   },
   "outputs": [
    {
     "name": "stdout",
     "output_type": "stream",
     "text": [
      "total 11877368\r\n",
      "-rw-r--r-- 1 root root 12088943206 Jul 13 09:24 mpii_human_pose_v1.tar.gz\r\n",
      "-rw-r--r-- 1 root root    12340483 Jul 13 08:13 mpii_human_pose_v1_u12_2.zip\r\n",
      "-rw-r--r-- 1 root root    61118310 Jul 13 08:13 mpii.zip\r\n",
      "drwxr-xr-x 2 root root        4096 Jul 14 09:43 tfrecords_mpii\r\n",
      "-rw-r--r-- 1 root root        2148 Jul 26 07:26 Untitled.ipynb\r\n"
     ]
    }
   ],
   "source": [
    "!ls -l"
   ]
  },
  {
   "cell_type": "code",
   "execution_count": 5,
   "metadata": {
    "ExecuteTime": {
     "end_time": "2021-07-26T07:35:57.360650Z",
     "start_time": "2021-07-26T07:35:56.476034Z"
    }
   },
   "outputs": [],
   "source": [
    "!rm -rf tfrecords_mpii/"
   ]
  },
  {
   "cell_type": "code",
   "execution_count": 6,
   "metadata": {
    "ExecuteTime": {
     "end_time": "2021-07-26T07:37:12.144640Z",
     "start_time": "2021-07-26T07:37:11.444306Z"
    }
   },
   "outputs": [
    {
     "name": "stdout",
     "output_type": "stream",
     "text": [
      "rm: missing operand\r\n",
      "Try 'rm --help' for more information.\r\n"
     ]
    }
   ],
   "source": [
    "!rm -rf"
   ]
  },
  {
   "cell_type": "code",
   "execution_count": 7,
   "metadata": {
    "ExecuteTime": {
     "end_time": "2021-07-26T07:40:34.575691Z",
     "start_time": "2021-07-26T07:40:33.854258Z"
    }
   },
   "outputs": [
    {
     "name": "stdout",
     "output_type": "stream",
     "text": [
      "total 11877364\r\n",
      "-rw-r--r-- 1 root root 12088943206 Jul 13 09:24 mpii_human_pose_v1.tar.gz\r\n",
      "-rw-r--r-- 1 root root    12340483 Jul 13 08:13 mpii_human_pose_v1_u12_2.zip\r\n",
      "-rw-r--r-- 1 root root    61118310 Jul 13 08:13 mpii.zip\r\n",
      "-rw-r--r-- 1 root root        3465 Jul 26 07:38 Untitled.ipynb\r\n"
     ]
    }
   ],
   "source": [
    "!ls -l"
   ]
  },
  {
   "cell_type": "code",
   "execution_count": 8,
   "metadata": {
    "ExecuteTime": {
     "end_time": "2021-07-26T07:41:13.078302Z",
     "start_time": "2021-07-26T07:41:11.013820Z"
    }
   },
   "outputs": [
    {
     "name": "stdout",
     "output_type": "stream",
     "text": [
      "Archive:  mpii.zip\n",
      "   creating: models/\n",
      "  inflating: models/model-v0.0.3-epoch-1-loss-1.0744.h5  \n",
      "  inflating: hourglass104.py         \n",
      "  inflating: preprocess.py           \n",
      "  inflating: simplebaseline.py       \n",
      "  inflating: test.py                 \n",
      "  inflating: test_image.jpg          \n",
      "  inflating: tfrecords_mpii.py       \n",
      "  inflating: train.py                \n"
     ]
    }
   ],
   "source": [
    "!unzip mpii.zip"
   ]
  },
  {
   "cell_type": "code",
   "execution_count": null,
   "metadata": {},
   "outputs": [],
   "source": []
  }
 ],
 "metadata": {
  "kernelspec": {
   "display_name": "Python 3",
   "language": "python",
   "name": "python3"
  },
  "language_info": {
   "codemirror_mode": {
    "name": "ipython",
    "version": 3
   },
   "file_extension": ".py",
   "mimetype": "text/x-python",
   "name": "python",
   "nbconvert_exporter": "python",
   "pygments_lexer": "ipython3",
   "version": "3.8.5"
  },
  "toc": {
   "base_numbering": 1,
   "nav_menu": {},
   "number_sections": false,
   "sideBar": true,
   "skip_h1_title": false,
   "title_cell": "Table of Contents",
   "title_sidebar": "Contents",
   "toc_cell": false,
   "toc_position": {},
   "toc_section_display": true,
   "toc_window_display": false
  }
 },
 "nbformat": 4,
 "nbformat_minor": 4
}
